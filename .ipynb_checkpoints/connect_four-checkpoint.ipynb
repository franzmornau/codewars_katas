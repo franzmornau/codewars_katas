{
 "cells": [
  {
   "cell_type": "code",
   "execution_count": 3,
   "metadata": {},
   "outputs": [],
   "source": [
    "import numpy as np"
   ]
  },
  {
   "cell_type": "code",
   "execution_count": 4,
   "metadata": {},
   "outputs": [],
   "source": [
    "def who_is_winner(pieces_position_list):\n",
    "    # Your code here!\n",
    "    pass"
   ]
  },
  {
   "cell_type": "code",
   "execution_count": 5,
   "metadata": {},
   "outputs": [],
   "source": [
    "po=[ \n",
    "\"C_Yellow\", \"E_Red\", \"G_Yellow\", \"B_Red\", \"D_Yellow\", \"B_Red\", \"B_Yellow\", \"G_Red\", \"C_Yellow\", \"C_Red\",\n",
    "\"D_Yellow\", \"F_Red\", \"E_Yellow\", \"A_Red\", \"A_Yellow\", \"G_Red\", \"A_Yellow\", \"F_Red\", \"F_Yellow\", \"D_Red\", \n",
    "\"B_Yellow\", \"E_Red\", \"D_Yellow\", \"A_Red\", \"G_Yellow\", \"D_Red\", \"D_Yellow\", \"C_Red\"\n",
    "]"
   ]
  },
  {
   "cell_type": "code",
   "execution_count": 16,
   "metadata": {},
   "outputs": [
    {
     "ename": "TypeError",
     "evalue": "string indices must be integers",
     "output_type": "error",
     "traceback": [
      "\u001b[0;31m---------------------------------------------------------------------------\u001b[0m",
      "\u001b[0;31mTypeError\u001b[0m                                 Traceback (most recent call last)",
      "\u001b[0;32m<ipython-input-16-8e95f9a5c1a2>\u001b[0m in \u001b[0;36m<module>\u001b[0;34m\u001b[0m\n\u001b[0;32m----> 1\u001b[0;31m \u001b[0mpo\u001b[0m\u001b[0;34m[\u001b[0m\u001b[0;36m0\u001b[0m\u001b[0;34m]\u001b[0m\u001b[0;34m[\u001b[0m\u001b[0;36m2\u001b[0m\u001b[0;34m,\u001b[0m\u001b[0;34m-\u001b[0m\u001b[0;36m1\u001b[0m\u001b[0;34m]\u001b[0m\u001b[0;34m\u001b[0m\u001b[0;34m\u001b[0m\u001b[0m\n\u001b[0m",
      "\u001b[0;31mTypeError\u001b[0m: string indices must be integers"
     ]
    }
   ],
   "source": [
    "po[0][2,-1]"
   ]
  },
  {
   "cell_type": "code",
   "execution_count": null,
   "metadata": {},
   "outputs": [],
   "source": [
    "def create_matrix(po):\n",
    "    pass"
   ]
  },
  {
   "cell_type": "code",
   "execution_count": null,
   "metadata": {},
   "outputs": [],
   "source": []
  },
  {
   "cell_type": "code",
   "execution_count": 47,
   "metadata": {},
   "outputs": [
    {
     "ename": "TypeError",
     "evalue": "order not understood",
     "output_type": "error",
     "traceback": [
      "\u001b[0;31m---------------------------------------------------------------------------\u001b[0m",
      "\u001b[0;31mTypeError\u001b[0m                                 Traceback (most recent call last)",
      "\u001b[0;32m<ipython-input-47-dbb6702fd766>\u001b[0m in \u001b[0;36m<module>\u001b[0;34m\u001b[0m\n\u001b[0;32m----> 1\u001b[0;31m \u001b[0mpf\u001b[0m\u001b[0;34m=\u001b[0m\u001b[0mnp\u001b[0m\u001b[0;34m.\u001b[0m\u001b[0mzeros\u001b[0m\u001b[0;34m(\u001b[0m\u001b[0;34m(\u001b[0m\u001b[0;36m6\u001b[0m\u001b[0;34m,\u001b[0m\u001b[0;36m7\u001b[0m\u001b[0;34m)\u001b[0m\u001b[0;34m,\u001b[0m \u001b[0mstr\u001b[0m\u001b[0;34m,\u001b[0m\u001b[0;34m'0'\u001b[0m\u001b[0;34m)\u001b[0m\u001b[0;34m\u001b[0m\u001b[0;34m\u001b[0m\u001b[0m\n\u001b[0m\u001b[1;32m      2\u001b[0m \u001b[0mpf\u001b[0m\u001b[0;34m\u001b[0m\u001b[0;34m\u001b[0m\u001b[0m\n",
      "\u001b[0;31mTypeError\u001b[0m: order not understood"
     ]
    }
   ],
   "source": [
    "pf=np.zeros((6,7), str)\n",
    "pf"
   ]
  },
  {
   "cell_type": "code",
   "execution_count": 40,
   "metadata": {},
   "outputs": [
    {
     "data": {
      "text/plain": [
       "[('C', 'Y'),\n",
       " ('E', 'R'),\n",
       " ('G', 'Y'),\n",
       " ('B', 'R'),\n",
       " ('D', 'Y'),\n",
       " ('B', 'R'),\n",
       " ('B', 'Y'),\n",
       " ('G', 'R'),\n",
       " ('C', 'Y'),\n",
       " ('C', 'R'),\n",
       " ('D', 'Y'),\n",
       " ('F', 'R'),\n",
       " ('E', 'Y'),\n",
       " ('A', 'R'),\n",
       " ('A', 'Y'),\n",
       " ('G', 'R'),\n",
       " ('A', 'Y'),\n",
       " ('F', 'R'),\n",
       " ('F', 'Y'),\n",
       " ('D', 'R'),\n",
       " ('B', 'Y'),\n",
       " ('E', 'R'),\n",
       " ('D', 'Y'),\n",
       " ('A', 'R'),\n",
       " ('G', 'Y'),\n",
       " ('D', 'R'),\n",
       " ('D', 'Y'),\n",
       " ('C', 'R')]"
      ]
     },
     "execution_count": 40,
     "metadata": {},
     "output_type": "execute_result"
    }
   ],
   "source": [
    "pp = [(s[0], s[2]) for s in po]\n",
    "pp"
   ]
  },
  {
   "cell_type": "code",
   "execution_count": 37,
   "metadata": {},
   "outputs": [],
   "source": [
    "# pf[a,0] = 'R'\n",
    "# pf"
   ]
  },
  {
   "cell_type": "code",
   "execution_count": 44,
   "metadata": {},
   "outputs": [],
   "source": [
    "a,b,c,d,e,f,g = 0,0,0,0,0,0,0"
   ]
  },
  {
   "cell_type": "code",
   "execution_count": 45,
   "metadata": {},
   "outputs": [
    {
     "data": {
      "text/plain": [
       "array([['R', 'R', 'Y', 'Y', 'R', 'R', 'Y'],\n",
       "       ['Y', 'R', 'Y', 'Y', 'Y', 'R', 'R'],\n",
       "       ['Y', 'Y', 'R', 'R', 'R', 'Y', 'R'],\n",
       "       ['R', 'Y', 'R', 'Y', '', '', 'Y'],\n",
       "       ['', '', '', 'R', '', '', ''],\n",
       "       ['', '', '', 'Y', '', '', '']], dtype='<U1')"
      ]
     },
     "execution_count": 45,
     "metadata": {},
     "output_type": "execute_result"
    }
   ],
   "source": [
    "for p in pp:\n",
    "    if p[0]=='A': \n",
    "        pf[a,0] = p[1]\n",
    "        a+=1\n",
    "    elif p[0]=='B': \n",
    "        pf[b,1] = p[1]\n",
    "        b+=1\n",
    "    elif p[0]== 'C':\n",
    "        pf[c,2] = p[1]\n",
    "        c+=1\n",
    "    elif p[0]=='D':        \n",
    "        pf[d,3] = p[1]\n",
    "        d+=1\n",
    "    elif p[0]=='E':         \n",
    "        pf[e,4] = p[1]\n",
    "        e+=1\n",
    "    elif p[0]=='F':         \n",
    "        pf[f,5] = p[1]\n",
    "        f+=1    \n",
    "    elif p[0]=='G':         \n",
    "        pf[g,6] = p[1]\n",
    "        g+=1\n",
    "pf"
   ]
  },
  {
   "cell_type": "code",
   "execution_count": 11,
   "metadata": {},
   "outputs": [],
   "source": [
    "A,B,C,D,E,F,G = [],[],[],[],[],[],[]"
   ]
  },
  {
   "cell_type": "code",
   "execution_count": 22,
   "metadata": {},
   "outputs": [],
   "source": [
    "for p in pp:\n",
    "    if p[0]=='A': A.append(p[1])\n",
    "    elif p[0]=='B': B.append(p[1])\n",
    "    elif p[0]=='C': C.append(p[1])\n",
    "    elif p[0]=='D': D.append(p[1])\n",
    "    elif p[0]=='E': E.append(p[1])\n",
    "    elif p[0]=='F': F.append(p[1])    \n",
    "    elif p[0]=='G': G.append(p[1])"
   ]
  },
  {
   "cell_type": "code",
   "execution_count": null,
   "metadata": {},
   "outputs": [],
   "source": []
  }
 ],
 "metadata": {
  "kernelspec": {
   "display_name": "Python 3",
   "language": "python",
   "name": "python3"
  },
  "language_info": {
   "codemirror_mode": {
    "name": "ipython",
    "version": 3
   },
   "file_extension": ".py",
   "mimetype": "text/x-python",
   "name": "python",
   "nbconvert_exporter": "python",
   "pygments_lexer": "ipython3",
   "version": "3.7.3"
  }
 },
 "nbformat": 4,
 "nbformat_minor": 2
}
