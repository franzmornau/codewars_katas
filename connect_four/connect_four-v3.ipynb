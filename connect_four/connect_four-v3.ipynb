{
 "cells": [
  {
   "cell_type": "code",
   "execution_count": 1,
   "metadata": {},
   "outputs": [],
   "source": [
    "import numpy as np"
   ]
  },
  {
   "cell_type": "code",
   "execution_count": 3,
   "metadata": {},
   "outputs": [],
   "source": [
    "po1=[ \n",
    "\"C_Yellow\", \"E_Red\", \"G_Yellow\", \"B_Red\", \"D_Yellow\", \"B_Red\", \"B_Yellow\", \"G_Red\", \"C_Yellow\", \"C_Red\",\n",
    "\"D_Yellow\", \"F_Red\", \"E_Yellow\", \"A_Red\", \"A_Yellow\", \"G_Red\", \"A_Yellow\", \"F_Red\", \"F_Yellow\", \"D_Red\", \n",
    "\"B_Yellow\", \"E_Red\", \"D_Yellow\", \"A_Red\", \"G_Yellow\", \"D_Red\", \"D_Yellow\", \"C_Red\"\n",
    "] # Yellow"
   ]
  },
  {
   "cell_type": "code",
   "execution_count": 4,
   "metadata": {},
   "outputs": [],
   "source": [
    "po2=[\n",
    "\"C_Yellow\", \"B_Red\", \"B_Yellow\", \"E_Red\", \"D_Yellow\", \"G_Red\", \"B_Yellow\", \"G_Red\", \"E_Yellow\", \"A_Red\", \n",
    "\"G_Yellow\", \"C_Red\", \"A_Yellow\", \"A_Red\", \"D_Yellow\", \"B_Red\", \"G_Yellow\", \"A_Red\", \"F_Yellow\", \"B_Red\", \n",
    "\"D_Yellow\", \"A_Red\", \"F_Yellow\", \"F_Red\", \"B_Yellow\", \"F_Red\", \"F_Yellow\", \"G_Red\", \"A_Yellow\", \"F_Red\", \n",
    "\"C_Yellow\", \"C_Red\", \"G_Yellow\", \"C_Red\", \"D_Yellow\", \"D_Red\", \"E_Yellow\", \"D_Red\", \"E_Yellow\", \"C_Red\", \n",
    "\"E_Yellow\", \"E_Red\"\n",
    "] # \"Yellow\")\n",
    "    \n",
    "po3=[\n",
    "\"F_Yellow\", \"G_Red\", \"D_Yellow\", \"C_Red\", \"A_Yellow\", \"A_Red\", \"E_Yellow\", \"D_Red\", \"D_Yellow\", \"F_Red\", \n",
    "\"B_Yellow\", \"E_Red\", \"C_Yellow\", \"D_Red\", \"F_Yellow\", \"D_Red\", \"D_Yellow\", \"F_Red\", \"G_Yellow\", \"C_Red\", \n",
    "\"F_Yellow\", \"E_Red\", \"A_Yellow\", \"A_Red\", \"C_Yellow\", \"B_Red\", \"E_Yellow\", \"C_Red\", \"E_Yellow\", \"G_Red\", \n",
    "\"A_Yellow\", \"A_Red\", \"G_Yellow\", \"C_Red\", \"B_Yellow\", \"E_Red\", \"F_Yellow\", \"G_Red\", \"G_Yellow\", \"B_Red\", \n",
    "\"B_Yellow\", \"B_Red\"\n",
    "]# \"Red\")"
   ]
  },
  {
   "cell_type": "code",
   "execution_count": 146,
   "metadata": {},
   "outputs": [
    {
     "data": {
      "text/plain": [
       "(array([['Y', 'R', 'R', 'R', 'R', 'Y', 'Y'],\n",
       "        ['x', 'Y', 'R', 'R', 'x', 'x', 'Y'],\n",
       "        ['x', 'x', 'Y', 'R', 'x', 'x', 'Y'],\n",
       "        ['x', 'x', 'x', 'Y', 'x', 'x', 'x'],\n",
       "        ['x', 'x', 'x', 'x', 'x', 'x', 'x'],\n",
       "        ['x', 'x', 'x', 'x', 'x', 'x', 'x']], dtype='<U1'),\n",
       " array([[ 1,  2,  4,  8, 14, 13,  5],\n",
       "        [ 0,  3,  6, 10,  0,  0,  9],\n",
       "        [ 0,  0,  7, 12,  0,  0, 11],\n",
       "        [ 0,  0,  0, 15,  0,  0,  0],\n",
       "        [ 0,  0,  0,  0,  0,  0,  0],\n",
       "        [ 0,  0,  0,  0,  0,  0,  0]]))"
      ]
     },
     "execution_count": 146,
     "metadata": {},
     "output_type": "execute_result"
    }
   ],
   "source": [
    "po4=[\n",
    "\"A_Yellow\", \"B_Red\", \"B_Yellow\", \"C_Red\", \"G_Yellow\", \"C_Red\", \"C_Yellow\", \"D_Red\", \"G_Yellow\", \"D_Red\",\n",
    "\"G_Yellow\", \"D_Red\", \"F_Yellow\", \"E_Red\", \"D_Yellow\"\n",
    "] # \"Red\")\n",
    "create_matrix(po4)"
   ]
  },
  {
   "cell_type": "code",
   "execution_count": 4,
   "metadata": {},
   "outputs": [],
   "source": [
    "po5=[\n",
    "\"A_Red\", \"B_Yellow\", \"A_Red\", \"B_Yellow\", \"A_Red\", \"B_Yellow\", \"G_Red\", \"B_Yellow\"\n",
    "]# \"Yellow\")"
   ]
  },
  {
   "cell_type": "code",
   "execution_count": 4,
   "metadata": {},
   "outputs": [],
   "source": [
    "po6=[ \n",
    "\"A_Red\", \"B_Yellow\", \"A_Red\", \"E_Yellow\", \"F_Red\", \"G_Yellow\", \"A_Red\", \"G_Yellow\"\n",
    "]#\"Draw\");"
   ]
  },
  {
   "cell_type": "code",
   "execution_count": 141,
   "metadata": {},
   "outputs": [],
   "source": [
    "def who_is_winner(pieces_position_list):\n",
    "    pf,pn = create_matrix(pieces_position_list)\n",
    "    fours = count_verticals(pf,pn) + \\\n",
    "            count_horizontals(pf,pn) + \\\n",
    "            count_l_diagonals(pf,pn) + \\\n",
    "            count_r_diagonals(pf,pn)\n",
    "    print(fours)\n",
    "    if fours==[]:\n",
    "        return 'Draw'\n",
    "    ind=np.argsort([x[1] for x in fours])[0]\n",
    "    winner = fours[ind][0]\n",
    "    if winner == 'Y':\n",
    "        return 'Yellow'\n",
    "    return 'Red'"
   ]
  },
  {
   "cell_type": "code",
   "execution_count": 142,
   "metadata": {},
   "outputs": [
    {
     "name": "stdout",
     "output_type": "stream",
     "text": [
      "[('Y', 5), ('Y', 9), ('Y', 7), ('R', 20), ('R', 30), ('Y', 3), ('R', 14), ('Y', 21)]\n"
     ]
    },
    {
     "data": {
      "text/plain": [
       "'Yellow'"
      ]
     },
     "execution_count": 142,
     "metadata": {},
     "output_type": "execute_result"
    }
   ],
   "source": [
    "who_is_winner(po2)"
   ]
  },
  {
   "cell_type": "code",
   "execution_count": 143,
   "metadata": {},
   "outputs": [
    {
     "name": "stdout",
     "output_type": "stream",
     "text": [
      "[('Y', 5)]\n"
     ]
    },
    {
     "data": {
      "text/plain": [
       "'Yellow'"
      ]
     },
     "execution_count": 143,
     "metadata": {},
     "output_type": "execute_result"
    }
   ],
   "source": [
    "who_is_winner(po1)"
   ]
  },
  {
   "cell_type": "code",
   "execution_count": 144,
   "metadata": {},
   "outputs": [
    {
     "name": "stdout",
     "output_type": "stream",
     "text": [
      "[('R', 2), ('R', 10), ('R', 14), ('Y', 9), ('R', 4), ('Y', 9), ('R', 8), ('Y', 9)]\n"
     ]
    },
    {
     "data": {
      "text/plain": [
       "'Red'"
      ]
     },
     "execution_count": 144,
     "metadata": {},
     "output_type": "execute_result"
    }
   ],
   "source": [
    "who_is_winner(po3)"
   ]
  },
  {
   "cell_type": "code",
   "execution_count": 145,
   "metadata": {},
   "outputs": [
    {
     "name": "stdout",
     "output_type": "stream",
     "text": [
      "[('R', 2), ('Y', 1)]\n"
     ]
    },
    {
     "data": {
      "text/plain": [
       "'Yellow'"
      ]
     },
     "execution_count": 145,
     "metadata": {},
     "output_type": "execute_result"
    }
   ],
   "source": [
    "who_is_winner(po4)"
   ]
  },
  {
   "cell_type": "code",
   "execution_count": 139,
   "metadata": {},
   "outputs": [
    {
     "data": {
      "text/plain": [
       "'Yellow'"
      ]
     },
     "execution_count": 139,
     "metadata": {},
     "output_type": "execute_result"
    }
   ],
   "source": [
    "who_is_winner(po5)"
   ]
  },
  {
   "cell_type": "code",
   "execution_count": 140,
   "metadata": {},
   "outputs": [
    {
     "data": {
      "text/plain": [
       "'Draw'"
      ]
     },
     "execution_count": 140,
     "metadata": {},
     "output_type": "execute_result"
    }
   ],
   "source": [
    "who_is_winner(po6)"
   ]
  },
  {
   "cell_type": "code",
   "execution_count": 107,
   "metadata": {},
   "outputs": [],
   "source": [
    "def create_matrix(po):\n",
    "    a,b,c,d,e,f,g = 0,0,0,0,0,0,0\n",
    "    pp = [(s[0], s[2]) for s in po]\n",
    "    pf = np.full((6,7),'x')\n",
    "    pn = np.full((6,7),0)\n",
    "    counter = 0\n",
    "    for p in pp:\n",
    "        counter += 1\n",
    "        if p[0]=='A': \n",
    "            pf[a,0] = p[1]\n",
    "            pn[a,0] = counter\n",
    "            a+=1\n",
    "        elif p[0]=='B': \n",
    "            pf[b,1] = p[1]\n",
    "            pn[b,1] = counter\n",
    "            b+=1\n",
    "        elif p[0]== 'C':\n",
    "            pf[c,2] = p[1]\n",
    "            pn[c,2] = counter\n",
    "            c+=1\n",
    "        elif p[0]=='D':        \n",
    "            pf[d,3] = p[1]\n",
    "            pn[d,3] = counter\n",
    "            d+=1\n",
    "        elif p[0]=='E':         \n",
    "            pf[e,4] = p[1]\n",
    "            pn[e,4] = counter\n",
    "            e+=1\n",
    "        elif p[0]=='F':         \n",
    "            pf[f,5] = p[1]\n",
    "            pn[f,5] = counter\n",
    "            f+=1    \n",
    "        elif p[0]=='G':         \n",
    "            pf[g,6] = p[1]\n",
    "            pn[g,6] = counter\n",
    "            g+=1\n",
    "    return pf, pn"
   ]
  },
  {
   "cell_type": "code",
   "execution_count": null,
   "metadata": {},
   "outputs": [],
   "source": []
  },
  {
   "cell_type": "code",
   "execution_count": 64,
   "metadata": {},
   "outputs": [],
   "source": [
    "def count_verticals(pf,pn):\n",
    "    sets=[]\n",
    "    for j in range(7):\n",
    "        r,y,nr,ny = 0,0,42,42\n",
    "        for i in range(6):\n",
    "            if pf[i,j]=='R':\n",
    "                r += 1\n",
    "                y,ny = 0,42\n",
    "                nr = min(nr,pn[i,j])\n",
    "            elif pf[i,j] == 'Y':\n",
    "                y += 1\n",
    "                r,nr = 0,42\n",
    "                ny = min(ny,pn[i,j])\n",
    "            if r >= 4:\n",
    "                sets.append(('R',nr))\n",
    "                break\n",
    "            if y >= 4: \n",
    "                sets.append(('Y',ny))\n",
    "                break\n",
    "            \n",
    "    return sets\n",
    "            \n",
    "    "
   ]
  },
  {
   "cell_type": "code",
   "execution_count": 75,
   "metadata": {},
   "outputs": [],
   "source": [
    "def count_horizontals(pf,pn):\n",
    "    sets=[]\n",
    "    for i in range(6):\n",
    "        r,y,nr,ny = 0,0,42,42\n",
    "        for j in range(7):\n",
    "            if pf[i,j]=='R':\n",
    "                r += 1\n",
    "                y,ny = 0,42\n",
    "                nr = min(nr,pn[i,j])\n",
    "            elif pf[i,j] == 'Y':\n",
    "                y += 1\n",
    "                r,nr = 0,42\n",
    "                ny = min(ny,pn[i,j])\n",
    "            if r >= 4:\n",
    "                sets.append(('R',nr))\n",
    "                break\n",
    "            if y >= 4: \n",
    "                sets.append(('Y',ny))\n",
    "                break            \n",
    "    return sets"
   ]
  },
  {
   "cell_type": "code",
   "execution_count": null,
   "metadata": {},
   "outputs": [],
   "source": [
    "def count_r_diagonals(pf,pn):\n",
    "    sets=[]\n",
    "    for j in range(4):\n",
    "        r,y,nr,ny = 0,0,42,42\n",
    "        for j in range(3):\n",
    "            if pf[i,j]=='R':\n",
    "                r += 1\n",
    "                y,ny = 0,42\n",
    "                nr = min(nr,pn[i,j])\n",
    "            elif pf[i,j] == 'Y':\n",
    "                y += 1\n",
    "                r,nr = 0,42\n",
    "                ny = min(ny,pn[i,j])\n",
    "            if r >= 4:\n",
    "                sets.append(('R',nr))\n",
    "                break\n",
    "            if y >= 4: \n",
    "                sets.append(('Y',ny))\n",
    "                break            \n",
    "    return sets"
   ]
  },
  {
   "cell_type": "code",
   "execution_count": 92,
   "metadata": {},
   "outputs": [],
   "source": [
    "def count_r_diagonals(pf,pn):\n",
    "    sets=[]\n",
    "    sps = [(i,j) for i in range(3) for j in range(4)]\n",
    "    for k in sps:\n",
    "        i,j = k[0],k[1]\n",
    "        r,y,nr,ny = 0,0,42,42\n",
    "        for l in range(4):  \n",
    "            if pf[i+l,j+l]=='R':\n",
    "                r += 1\n",
    "                y,ny = 0,42\n",
    "                nr = min(nr,pn[i+l,j+l])\n",
    "            elif pf[i+l,j+l] == 'Y':\n",
    "                y += 1\n",
    "                r,nr = 0,42\n",
    "                ny = min(ny,pn[i+l,j+l])\n",
    "            if r >= 4:\n",
    "                sets.append(('R',nr))\n",
    "                break\n",
    "            if y >= 4: \n",
    "                sets.append(('Y',ny))\n",
    "                break    \n",
    "    return sets\n",
    "    "
   ]
  },
  {
   "cell_type": "code",
   "execution_count": 95,
   "metadata": {},
   "outputs": [],
   "source": [
    "def count_l_diagonals(pf,pn):\n",
    "    sets=[]\n",
    "    sps = [(i,j) for i in range(3) for j in range(3,7)]\n",
    "    for k in sps:\n",
    "        i,j = k[0],k[1]\n",
    "        r,y,nr,ny = 0,0,42,42\n",
    "        for l in range(4):  \n",
    "            if pf[i+l,j-l]=='R':\n",
    "                r += 1\n",
    "                y,ny = 0,42\n",
    "                nr = min(nr,pn[i+l,j-l])\n",
    "            elif pf[i+l,j-l] == 'Y':\n",
    "                y += 1\n",
    "                r,nr = 0,42\n",
    "                ny = min(ny,pn[i+l,j-l])\n",
    "            if r >= 4:\n",
    "                sets.append(('R',nr))\n",
    "                break\n",
    "            if y >= 4: \n",
    "                sets.append(('Y',ny))\n",
    "                break    \n",
    "    return sets"
   ]
  },
  {
   "cell_type": "code",
   "execution_count": 100,
   "metadata": {},
   "outputs": [
    {
     "data": {
      "text/plain": [
       "(array([['Y', 'Y', 'R', 'Y', 'Y', 'Y', 'R'],\n",
       "        ['R', 'R', 'Y', 'R', 'R', 'R', 'Y'],\n",
       "        ['Y', 'Y', 'R', 'Y', 'R', 'Y', 'R'],\n",
       "        ['R', 'R', 'Y', 'R', 'Y', 'R', 'Y'],\n",
       "        ['Y', 'Y', 'R', 'R', 'Y', 'Y', 'R'],\n",
       "        ['R', 'R', 'R', 'Y', 'R', 'Y', 'Y']], dtype='<U1'),\n",
       " array([[ 5, 11,  4,  3,  7,  1,  2],\n",
       "        [ 6, 26, 13,  8, 12, 10, 19],\n",
       "        [23, 35, 20,  9, 22, 15, 30],\n",
       "        [24, 40, 25, 14, 27, 18, 33],\n",
       "        [31, 41, 28, 16, 29, 21, 38],\n",
       "        [32, 42, 34, 17, 36, 37, 39]]))"
      ]
     },
     "execution_count": 100,
     "metadata": {},
     "output_type": "execute_result"
    }
   ],
   "source": [
    "pf3, pn3 = create_matrix(po3)\n",
    "pf3,pn3"
   ]
  },
  {
   "cell_type": "code",
   "execution_count": 99,
   "metadata": {},
   "outputs": [
    {
     "data": {
      "text/plain": [
       "[('R', 2), ('R', 10), ('R', 14)]"
      ]
     },
     "execution_count": 99,
     "metadata": {},
     "output_type": "execute_result"
    }
   ],
   "source": [
    "count_l_diagonals(pf3,pn3)"
   ]
  },
  {
   "cell_type": "code",
   "execution_count": 103,
   "metadata": {},
   "outputs": [
    {
     "data": {
      "text/plain": [
       "3"
      ]
     },
     "execution_count": 103,
     "metadata": {},
     "output_type": "execute_result"
    }
   ],
   "source": [
    "min([x[1] for x in rd2])"
   ]
  },
  {
   "cell_type": "code",
   "execution_count": 106,
   "metadata": {},
   "outputs": [
    {
     "data": {
      "text/plain": [
       "array([0, 1, 2])"
      ]
     },
     "execution_count": 106,
     "metadata": {},
     "output_type": "execute_result"
    }
   ],
   "source": [
    "np.argsort([x[1] for x in rd2])"
   ]
  },
  {
   "cell_type": "code",
   "execution_count": null,
   "metadata": {},
   "outputs": [],
   "source": []
  }
 ],
 "metadata": {
  "kernelspec": {
   "display_name": "Python 3",
   "language": "python",
   "name": "python3"
  },
  "language_info": {
   "codemirror_mode": {
    "name": "ipython",
    "version": 3
   },
   "file_extension": ".py",
   "mimetype": "text/x-python",
   "name": "python",
   "nbconvert_exporter": "python",
   "pygments_lexer": "ipython3",
   "version": "3.7.3"
  }
 },
 "nbformat": 4,
 "nbformat_minor": 2
}
