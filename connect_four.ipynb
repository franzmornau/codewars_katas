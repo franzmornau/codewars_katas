{
 "cells": [
  {
   "cell_type": "code",
   "execution_count": 3,
   "metadata": {},
   "outputs": [],
   "source": [
    "import numpy as np"
   ]
  },
  {
   "cell_type": "code",
   "execution_count": 4,
   "metadata": {},
   "outputs": [],
   "source": [
    "def who_is_winner(pieces_position_list):\n",
    "    # Your code here!\n",
    "    pass"
   ]
  },
  {
   "cell_type": "code",
   "execution_count": 57,
   "metadata": {},
   "outputs": [],
   "source": [
    "po1=[ \n",
    "\"C_Yellow\", \"E_Red\", \"G_Yellow\", \"B_Red\", \"D_Yellow\", \"B_Red\", \"B_Yellow\", \"G_Red\", \"C_Yellow\", \"C_Red\",\n",
    "\"D_Yellow\", \"F_Red\", \"E_Yellow\", \"A_Red\", \"A_Yellow\", \"G_Red\", \"A_Yellow\", \"F_Red\", \"F_Yellow\", \"D_Red\", \n",
    "\"B_Yellow\", \"E_Red\", \"D_Yellow\", \"A_Red\", \"G_Yellow\", \"D_Red\", \"D_Yellow\", \"C_Red\"\n",
    "]"
   ]
  },
  {
   "cell_type": "code",
   "execution_count": 64,
   "metadata": {},
   "outputs": [],
   "source": [
    "po2=[\n",
    "\"C_Yellow\", \"B_Red\", \"B_Yellow\", \"E_Red\", \"D_Yellow\", \"G_Red\", \"B_Yellow\", \"G_Red\", \"E_Yellow\", \"A_Red\", \n",
    "\"G_Yellow\", \"C_Red\", \"A_Yellow\", \"A_Red\", \"D_Yellow\", \"B_Red\", \"G_Yellow\", \"A_Red\", \"F_Yellow\", \"B_Red\", \n",
    "\"D_Yellow\", \"A_Red\", \"F_Yellow\", \"F_Red\", \"B_Yellow\", \"F_Red\", \"F_Yellow\", \"G_Red\", \"A_Yellow\", \"F_Red\", \n",
    "\"C_Yellow\", \"C_Red\", \"G_Yellow\", \"C_Red\", \"D_Yellow\", \"D_Red\", \"E_Yellow\", \"D_Red\", \"E_Yellow\", \"C_Red\", \n",
    "\"E_Yellow\", \"E_Red\"\n",
    "] # \"Yellow\")\n",
    "    \n",
    "po3=[\n",
    "\"F_Yellow\", \"G_Red\", \"D_Yellow\", \"C_Red\", \"A_Yellow\", \"A_Red\", \"E_Yellow\", \"D_Red\", \"D_Yellow\", \"F_Red\", \n",
    "\"B_Yellow\", \"E_Red\", \"C_Yellow\", \"D_Red\", \"F_Yellow\", \"D_Red\", \"D_Yellow\", \"F_Red\", \"G_Yellow\", \"C_Red\", \n",
    "\"F_Yellow\", \"E_Red\", \"A_Yellow\", \"A_Red\", \"C_Yellow\", \"B_Red\", \"E_Yellow\", \"C_Red\", \"E_Yellow\", \"G_Red\", \n",
    "\"A_Yellow\", \"A_Red\", \"G_Yellow\", \"C_Red\", \"B_Yellow\", \"E_Red\", \"F_Yellow\", \"G_Red\", \"G_Yellow\", \"B_Red\", \n",
    "\"B_Yellow\", \"B_Red\"\n",
    "]# \"Red\")\n",
    "\n",
    "po4=[\n",
    "\"A_Yellow\", \"B_Red\", \"B_Yellow\", \"C_Red\", \"G_Yellow\", \"C_Red\", \"C_Yellow\", \"D_Red\", \"G_Yellow\", \"D_Red\",\n",
    "\"G_Yellow\", \"D_Red\", \"F_Yellow\", \"E_Red\", \"D_Yellow\"\n",
    "] # \"Red\")\n",
    "\n",
    "po5=[\n",
    "\"A_Red\", \"B_Yellow\", \"A_Red\", \"B_Yellow\", \"A_Red\", \"B_Yellow\", \"G_Red\", \"B_Yellow\"\n",
    "]# \"Yellow\")\n",
    "\n",
    "po6=[ \n",
    "\"A_Red\", \"B_Yellow\", \"A_Red\", \"E_Yellow\", \"F_Red\", \"G_Yellow\", \"A_Red\", \"G_Yellow\"\n",
    "]#\"Draw\");\n",
    "\n"
   ]
  },
  {
   "cell_type": "code",
   "execution_count": 61,
   "metadata": {},
   "outputs": [],
   "source": [
    "def create_matrix(po):\n",
    "    a,b,c,d,e,f,g = 0,0,0,0,0,0,0\n",
    "    pp = [(s[0], s[2]) for s in po]\n",
    "    for p in pp:\n",
    "        if p[0]=='A': \n",
    "            pf[a,0] = p[1]\n",
    "            a+=1\n",
    "        elif p[0]=='B': \n",
    "            pf[b,1] = p[1]\n",
    "            b+=1\n",
    "        elif p[0]== 'C':\n",
    "            pf[c,2] = p[1]\n",
    "            c+=1\n",
    "        elif p[0]=='D':        \n",
    "            pf[d,3] = p[1]\n",
    "            d+=1\n",
    "        elif p[0]=='E':         \n",
    "            pf[e,4] = p[1]\n",
    "            e+=1\n",
    "        elif p[0]=='F':         \n",
    "            pf[f,5] = p[1]\n",
    "            f+=1    \n",
    "        elif p[0]=='G':         \n",
    "            pf[g,6] = p[1]\n",
    "            g+=1\n",
    "    return pf"
   ]
  },
  {
   "cell_type": "code",
   "execution_count": 66,
   "metadata": {},
   "outputs": [
    {
     "data": {
      "text/plain": [
       "array([['R', 'R', 'Y', 'Y', 'R', 'Y', 'R'],\n",
       "       ['Y', 'Y', 'R', 'Y', 'Y', 'Y', 'R'],\n",
       "       ['R', 'Y', 'Y', 'Y', 'Y', 'R', 'Y'],\n",
       "       ['R', 'R', 'R', 'Y', 'Y', 'R', 'Y'],\n",
       "       ['R', 'R', 'R', 'R', 'Y', 'Y', 'R'],\n",
       "       ['Y', 'Y', 'R', 'R', 'R', 'R', 'Y']], dtype='<U1')"
      ]
     },
     "execution_count": 66,
     "metadata": {},
     "output_type": "execute_result"
    }
   ],
   "source": [
    "pf2 = create_matrix(po2)\n",
    "pf2"
   ]
  },
  {
   "cell_type": "code",
   "execution_count": 68,
   "metadata": {},
   "outputs": [],
   "source": [
    "def count_verticals(pf):\n",
    "    for j in range(7):\n",
    "        r = 0\n",
    "        y = 0\n",
    "        for i in range(6):\n",
    "            if pf[i,j]=='R':\n",
    "                r += 1\n",
    "                y = 0\n",
    "            elif pf[i,j] == 'Y':\n",
    "                y += 1\n",
    "                r = 0\n",
    "            if r >= 4:\n",
    "                return 'Red'\n",
    "            if y >= 4: \n",
    "                return 'Yellow'\n",
    "    return 'None'\n",
    "            \n",
    "    "
   ]
  },
  {
   "cell_type": "code",
   "execution_count": 69,
   "metadata": {},
   "outputs": [
    {
     "data": {
      "text/plain": [
       "'Yellow'"
      ]
     },
     "execution_count": 69,
     "metadata": {},
     "output_type": "execute_result"
    }
   ],
   "source": [
    "count_verticals(pf2)"
   ]
  },
  {
   "cell_type": "code",
   "execution_count": null,
   "metadata": {},
   "outputs": [],
   "source": []
  },
  {
   "cell_type": "code",
   "execution_count": null,
   "metadata": {},
   "outputs": [],
   "source": []
  },
  {
   "cell_type": "code",
   "execution_count": 11,
   "metadata": {},
   "outputs": [],
   "source": [
    "A,B,C,D,E,F,G = [],[],[],[],[],[],[]"
   ]
  },
  {
   "cell_type": "code",
   "execution_count": 22,
   "metadata": {},
   "outputs": [],
   "source": [
    "for p in pp:\n",
    "    if p[0]=='A': A.append(p[1])\n",
    "    elif p[0]=='B': B.append(p[1])\n",
    "    elif p[0]=='C': C.append(p[1])\n",
    "    elif p[0]=='D': D.append(p[1])\n",
    "    elif p[0]=='E': E.append(p[1])\n",
    "    elif p[0]=='F': F.append(p[1])    \n",
    "    elif p[0]=='G': G.append(p[1])"
   ]
  },
  {
   "cell_type": "code",
   "execution_count": null,
   "metadata": {},
   "outputs": [],
   "source": [
    "for"
   ]
  }
 ],
 "metadata": {
  "kernelspec": {
   "display_name": "Python 3",
   "language": "python",
   "name": "python3"
  },
  "language_info": {
   "codemirror_mode": {
    "name": "ipython",
    "version": 3
   },
   "file_extension": ".py",
   "mimetype": "text/x-python",
   "name": "python",
   "nbconvert_exporter": "python",
   "pygments_lexer": "ipython3",
   "version": "3.7.3"
  }
 },
 "nbformat": 4,
 "nbformat_minor": 2
}
