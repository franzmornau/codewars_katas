{
 "cells": [
  {
   "cell_type": "markdown",
   "metadata": {},
   "source": [
    "### Solution:"
   ]
  },
  {
   "cell_type": "code",
   "execution_count": 1,
   "metadata": {},
   "outputs": [],
   "source": [
    "import numpy as np\n",
    "\n",
    "def who_is_winner(pieces_position_list):\n",
    "    pf,pn = create_matrix(pieces_position_list)\n",
    "    vert = count_verticals(pf,pn) \n",
    "    hor  = count_horizontals(pf,pn) \n",
    "    ld   = count_l_diagonals(pf,pn)\n",
    "    rd   = count_r_diagonals(pf,pn)\n",
    "    fours = vert + hor + ld + rd\n",
    "    if fours==[]:\n",
    "        return 'Draw'\n",
    "    ind=np.argsort([x[1] for x in fours])[0]\n",
    "    winner = fours[ind][0]\n",
    "    if winner == 'Y':\n",
    "        return 'Yellow'\n",
    "    return 'Red'\n",
    "\n",
    "def create_matrix(po):\n",
    "    a,b,c,d,e,f,g = 0,0,0,0,0,0,0\n",
    "    pp = [(s[0], s[2]) for s in po]\n",
    "    pf = np.full((6,7),'0')\n",
    "    pn = np.full((6,7),0)\n",
    "    counter = 0\n",
    "    for p in pp:\n",
    "        counter += 1\n",
    "        if p[0]=='A': \n",
    "            pf[a,0] = p[1]\n",
    "            pn[a,0] = counter\n",
    "            a+=1\n",
    "        elif p[0]=='B': \n",
    "            pf[b,1] = p[1]\n",
    "            pn[b,1] = counter\n",
    "            b+=1\n",
    "        elif p[0]== 'C':\n",
    "            pf[c,2] = p[1]\n",
    "            pn[c,2] = counter\n",
    "            c+=1\n",
    "        elif p[0]=='D':        \n",
    "            pf[d,3] = p[1]\n",
    "            pn[d,3] = counter\n",
    "            d+=1\n",
    "        elif p[0]=='E':         \n",
    "            pf[e,4] = p[1]\n",
    "            pn[e,4] = counter\n",
    "            e+=1\n",
    "        elif p[0]=='F':         \n",
    "            pf[f,5] = p[1]\n",
    "            pn[f,5] = counter\n",
    "            f+=1    \n",
    "        elif p[0]=='G':         \n",
    "            pf[g,6] = p[1]\n",
    "            pn[g,6] = counter\n",
    "            g+=1\n",
    "    return pf, pn\n",
    "\n",
    "def count_verticals(pf,pn):\n",
    "    sets=[]\n",
    "    for j in range(7):\n",
    "        r,y,nr,ny = 0,0,0,0\n",
    "        for i in range(6):\n",
    "            if pf[i,j]=='R':\n",
    "                r += 1\n",
    "                y,ny = 0,0\n",
    "                nr = max(nr,pn[i,j])\n",
    "            elif pf[i,j] == 'Y':\n",
    "                y += 1\n",
    "                r,nr = 0,0\n",
    "                ny = max(ny,pn[i,j])\n",
    "            else:\n",
    "                r,y,nr,ny = 0,0,0,0\n",
    "            if r >= 4:\n",
    "                sets.append(('R',nr))\n",
    "                break\n",
    "            if y >= 4: \n",
    "                sets.append(('Y',ny))\n",
    "                break            \n",
    "    return sets\n",
    "            \n",
    "def count_horizontals(pf,pn):\n",
    "    sets=[]\n",
    "    for i in range(6):\n",
    "        r,y,nr,ny = 0,0,0,0\n",
    "        for j in range(7):\n",
    "            if pf[i,j]=='R':\n",
    "                r += 1\n",
    "                y,ny = 0,0\n",
    "                nr = max(nr,pn[i,j])\n",
    "            elif pf[i,j] == 'Y':\n",
    "                y += 1\n",
    "                r,nr = 0,0\n",
    "                ny = max(ny,pn[i,j])\n",
    "            else:\n",
    "                r,y,nr,ny = 0,0,0,0\n",
    "            if r >= 4:\n",
    "                sets.append(('R',nr))\n",
    "                break\n",
    "            if y >= 4: \n",
    "                sets.append(('Y',ny))\n",
    "                break            \n",
    "    return sets\n",
    "\n",
    "def count_r_diagonals(pf,pn):\n",
    "    sets=[]\n",
    "    sps = [(i,j) for i in range(3) for j in range(4)]\n",
    "    for k in sps:\n",
    "        i,j = k[0],k[1]\n",
    "        r,y,nr,ny = 0,0,0,0\n",
    "        for l in range(4):  \n",
    "            if pf[i+l,j+l]=='R':\n",
    "                r += 1\n",
    "                y,ny = 0,42\n",
    "                nr = max(nr,pn[i+l,j+l])\n",
    "            elif pf[i+l,j+l] == 'Y':\n",
    "                y += 1\n",
    "                r,nr = 0,42\n",
    "                ny = max(ny,pn[i+l,j+l])\n",
    "            else:\n",
    "                r,y,nr,ny = 0,0,0,0\n",
    "            if r >= 4:\n",
    "                sets.append(('R',nr))\n",
    "                break\n",
    "            if y >= 4: \n",
    "                sets.append(('Y',ny))\n",
    "                break    \n",
    "    return sets\n",
    "    \n",
    "\n",
    "def count_l_diagonals(pf,pn):\n",
    "    sets=[]\n",
    "    sps = [(i,j) for i in range(3) for j in range(3,7)]\n",
    "    for k in sps:\n",
    "        i,j = k[0],k[1]\n",
    "        r,y,nr,ny = 0,0,0,0\n",
    "        for l in range(4):  \n",
    "            if pf[i+l,j-l]=='R':\n",
    "                r += 1\n",
    "                y,ny = 0,42\n",
    "                nr = max(nr,pn[i+l,j-l])\n",
    "            elif pf[i+l,j-l] == 'Y':\n",
    "                y += 1\n",
    "                r,nr = 0,42\n",
    "                ny = max(ny,pn[i+l,j-l])\n",
    "            else:\n",
    "                r,y,nr,ny = 0,0,0,0\n",
    "            if r >= 4:\n",
    "                sets.append(('R',nr))\n",
    "                break\n",
    "            if y >= 4: \n",
    "                sets.append(('Y',ny))\n",
    "                break    \n",
    "    return sets"
   ]
  },
  {
   "cell_type": "markdown",
   "metadata": {},
   "source": [
    "#### Test:"
   ]
  },
  {
   "cell_type": "code",
   "execution_count": 2,
   "metadata": {},
   "outputs": [],
   "source": [
    "po1=[ \n",
    "\"C_Yellow\", \"E_Red\", \"G_Yellow\", \"B_Red\", \"D_Yellow\", \"B_Red\", \"B_Yellow\", \"G_Red\", \"C_Yellow\", \"C_Red\",\n",
    "\"D_Yellow\", \"F_Red\", \"E_Yellow\", \"A_Red\", \"A_Yellow\", \"G_Red\", \"A_Yellow\", \"F_Red\", \"F_Yellow\", \"D_Red\", \n",
    "\"B_Yellow\", \"E_Red\", \"D_Yellow\", \"A_Red\", \"G_Yellow\", \"D_Red\", \"D_Yellow\", \"C_Red\"\n",
    "] # Yellow"
   ]
  },
  {
   "cell_type": "code",
   "execution_count": 3,
   "metadata": {},
   "outputs": [],
   "source": [
    "po2=[\n",
    "\"C_Yellow\", \"B_Red\", \"B_Yellow\", \"E_Red\", \"D_Yellow\", \"G_Red\", \"B_Yellow\", \"G_Red\", \"E_Yellow\", \"A_Red\", \n",
    "\"G_Yellow\", \"C_Red\", \"A_Yellow\", \"A_Red\", \"D_Yellow\", \"B_Red\", \"G_Yellow\", \"A_Red\", \"F_Yellow\", \"B_Red\", \n",
    "\"D_Yellow\", \"A_Red\", \"F_Yellow\", \"F_Red\", \"B_Yellow\", \"F_Red\", \"F_Yellow\", \"G_Red\", \"A_Yellow\", \"F_Red\", \n",
    "\"C_Yellow\", \"C_Red\", \"G_Yellow\", \"C_Red\", \"D_Yellow\", \"D_Red\", \"E_Yellow\", \"D_Red\", \"E_Yellow\", \"C_Red\", \n",
    "\"E_Yellow\", \"E_Red\"\n",
    "] # \"Yellow\")\n",
    "    \n",
    "po3=[\n",
    "\"F_Yellow\", \"G_Red\", \"D_Yellow\", \"C_Red\", \"A_Yellow\", \"A_Red\", \"E_Yellow\", \"D_Red\", \"D_Yellow\", \"F_Red\", \n",
    "\"B_Yellow\", \"E_Red\", \"C_Yellow\", \"D_Red\", \"F_Yellow\", \"D_Red\", \"D_Yellow\", \"F_Red\", \"G_Yellow\", \"C_Red\", \n",
    "\"F_Yellow\", \"E_Red\", \"A_Yellow\", \"A_Red\", \"C_Yellow\", \"B_Red\", \"E_Yellow\", \"C_Red\", \"E_Yellow\", \"G_Red\", \n",
    "\"A_Yellow\", \"A_Red\", \"G_Yellow\", \"C_Red\", \"B_Yellow\", \"E_Red\", \"F_Yellow\", \"G_Red\", \"G_Yellow\", \"B_Red\", \n",
    "\"B_Yellow\", \"B_Red\"\n",
    "]# \"Red\")"
   ]
  },
  {
   "cell_type": "code",
   "execution_count": 4,
   "metadata": {},
   "outputs": [],
   "source": [
    "po4=[\n",
    "\"A_Yellow\", \"B_Red\", \"B_Yellow\", \"C_Red\", \"G_Yellow\", \"C_Red\", \"C_Yellow\", \"D_Red\", \"G_Yellow\", \"D_Red\",\n",
    "\"G_Yellow\", \"D_Red\", \"F_Yellow\", \"E_Red\", \"D_Yellow\"\n",
    "] # \"Red\")"
   ]
  },
  {
   "cell_type": "code",
   "execution_count": 5,
   "metadata": {},
   "outputs": [],
   "source": [
    "po5=[\n",
    "\"A_Red\", \"B_Yellow\", \"A_Red\", \"B_Yellow\", \"A_Red\", \"B_Yellow\", \"G_Red\", \"B_Yellow\"\n",
    "]# \"Yellow\")"
   ]
  },
  {
   "cell_type": "code",
   "execution_count": 6,
   "metadata": {},
   "outputs": [],
   "source": [
    "po6=[ \n",
    "\"A_Red\", \"B_Yellow\", \"A_Red\", \"E_Yellow\", \"F_Red\", \"G_Yellow\", \"A_Red\", \"G_Yellow\"\n",
    "]#\"Draw\");"
   ]
  },
  {
   "cell_type": "code",
   "execution_count": 7,
   "metadata": {},
   "outputs": [],
   "source": [
    "po7 = ['A_Red', 'D_Yellow', 'E_Red', 'A_Yellow', 'D_Red', 'B_Yellow', 'E_Red', 'G_Yellow', 'F_Red', 'E_Yellow', 'E_Red', 'C_Yellow', 'F_Red', 'D_Yellow', 'B_Red', 'A_Yellow', 'F_Red', 'E_Yellow', 'E_Red']\n",
    "# draw"
   ]
  },
  {
   "cell_type": "code",
   "execution_count": 8,
   "metadata": {},
   "outputs": [
    {
     "data": {
      "text/plain": [
       "'Draw'"
      ]
     },
     "execution_count": 8,
     "metadata": {},
     "output_type": "execute_result"
    }
   ],
   "source": [
    "who_is_winner(po7)"
   ]
  },
  {
   "cell_type": "code",
   "execution_count": 9,
   "metadata": {},
   "outputs": [
    {
     "data": {
      "text/plain": [
       "'Red'"
      ]
     },
     "execution_count": 9,
     "metadata": {},
     "output_type": "execute_result"
    }
   ],
   "source": [
    "po8=['C_Red', 'B_Yellow', 'D_Red', 'A_Yellow', 'G_Red', 'A_Yellow', 'C_Red', 'C_Yellow', 'E_Red', 'E_Yellow', 'D_Red', 'F_Yellow', 'C_Red', 'E_Yellow', 'G_Red', 'D_Yellow', 'D_Red', 'E_Yellow', 'G_Red', 'F_Yellow', 'F_Red', 'C_Yellow', 'E_Red', 'D_Yellow', 'G_Red', 'D_Yellow']\n",
    "who_is_winner(po8)"
   ]
  },
  {
   "cell_type": "code",
   "execution_count": 10,
   "metadata": {},
   "outputs": [
    {
     "data": {
      "text/plain": [
       "'Draw'"
      ]
     },
     "execution_count": 10,
     "metadata": {},
     "output_type": "execute_result"
    }
   ],
   "source": [
    "po9=['F_Red', 'G_Yellow', 'D_Red', 'C_Yellow', 'C_Red', 'A_Yellow', 'G_Red', 'D_Yellow', 'C_Red', 'A_Yellow', 'A_Red', 'A_Yellow', 'A_Red', 'B_Yellow', 'A_Red']\n",
    "#yellow\n",
    "who_is_winner(po9)"
   ]
  },
  {
   "cell_type": "code",
   "execution_count": 11,
   "metadata": {},
   "outputs": [
    {
     "data": {
      "text/plain": [
       "'Draw'"
      ]
     },
     "execution_count": 11,
     "metadata": {},
     "output_type": "execute_result"
    }
   ],
   "source": [
    "po10=['G_Red', 'F_Yellow', 'A_Red', 'C_Yellow', 'C_Red', 'B_Yellow', 'F_Red', 'E_Yellow', 'B_Red', 'F_Yellow', 'C_Red', 'C_Yellow', 'A_Red', 'C_Yellow', 'C_Red']\n",
    "#yellow\n",
    "create_matrix(po10)\n",
    "who_is_winner(po10)"
   ]
  },
  {
   "cell_type": "code",
   "execution_count": 12,
   "metadata": {},
   "outputs": [
    {
     "data": {
      "text/plain": [
       "'Yellow'"
      ]
     },
     "execution_count": 12,
     "metadata": {},
     "output_type": "execute_result"
    }
   ],
   "source": [
    "who_is_winner(po2)"
   ]
  },
  {
   "cell_type": "code",
   "execution_count": 13,
   "metadata": {},
   "outputs": [
    {
     "data": {
      "text/plain": [
       "'Yellow'"
      ]
     },
     "execution_count": 13,
     "metadata": {},
     "output_type": "execute_result"
    }
   ],
   "source": [
    "who_is_winner(po1)"
   ]
  },
  {
   "cell_type": "code",
   "execution_count": 14,
   "metadata": {},
   "outputs": [
    {
     "data": {
      "text/plain": [
       "'Red'"
      ]
     },
     "execution_count": 14,
     "metadata": {},
     "output_type": "execute_result"
    }
   ],
   "source": [
    "who_is_winner(po3)"
   ]
  },
  {
   "cell_type": "code",
   "execution_count": 15,
   "metadata": {},
   "outputs": [
    {
     "data": {
      "text/plain": [
       "'Red'"
      ]
     },
     "execution_count": 15,
     "metadata": {},
     "output_type": "execute_result"
    }
   ],
   "source": [
    "who_is_winner(po4)"
   ]
  },
  {
   "cell_type": "code",
   "execution_count": 16,
   "metadata": {},
   "outputs": [
    {
     "data": {
      "text/plain": [
       "'Yellow'"
      ]
     },
     "execution_count": 16,
     "metadata": {},
     "output_type": "execute_result"
    }
   ],
   "source": [
    "who_is_winner(po5)"
   ]
  },
  {
   "cell_type": "code",
   "execution_count": 17,
   "metadata": {},
   "outputs": [
    {
     "data": {
      "text/plain": [
       "'Draw'"
      ]
     },
     "execution_count": 17,
     "metadata": {},
     "output_type": "execute_result"
    }
   ],
   "source": [
    "who_is_winner(po6)"
   ]
  },
  {
   "cell_type": "code",
   "execution_count": null,
   "metadata": {},
   "outputs": [],
   "source": []
  }
 ],
 "metadata": {
  "kernelspec": {
   "display_name": "Python 3",
   "language": "python",
   "name": "python3"
  },
  "language_info": {
   "codemirror_mode": {
    "name": "ipython",
    "version": 3
   },
   "file_extension": ".py",
   "mimetype": "text/x-python",
   "name": "python",
   "nbconvert_exporter": "python",
   "pygments_lexer": "ipython3",
   "version": "3.7.3"
  }
 },
 "nbformat": 4,
 "nbformat_minor": 2
}
